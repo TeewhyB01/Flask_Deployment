{
  "nbformat": 4,
  "nbformat_minor": 0,
  "metadata": {
    "colab": {
      "name": "co2.ipynb",
      "provenance": [],
      "toc_visible": true
    },
    "kernelspec": {
      "name": "python3",
      "display_name": "Python 3"
    },
    "language_info": {
      "name": "python"
    }
  },
  "cells": [
    {
      "cell_type": "code",
      "execution_count": null,
      "metadata": {
        "id": "H_uwYYqFC_y-"
      },
      "outputs": [],
      "source": [
        "from flask import Flask, request, jsonify, render_template\n",
        "import pickle\n",
        "import pandas as pd\n",
        "import numpy as np\n",
        "from sklearn import model_selection as ms\n",
        "from sklearn.ensemble import RandomForestRegressor\n",
        "import random\n",
        "#for maintaining randomness\n",
        "random_state = 1\n",
        "\n",
        "\n",
        "# read file from csv to pandas DataFrame\n",
        "data = pd.read_csv(r'Cleaned_data.csv')\n",
        "\n",
        "#Select relevant features from previous analysis\n",
        "final_data = data[['country','year','co2','coal_co2','cement_co2','gas_co2','oil_co2','methane','population','gdp']]\n",
        "\n",
        "\n",
        "#Remove Outliers (countries) with significantly  high range features\n",
        "final_data = final_data[final_data['country'].isin(['Afghanistan', 'Albania', 'Algeria', 'Argentina', 'Armenia',\n",
        "       'Australia', 'Austria', 'Azerbaijan', 'Belarus', 'Belgium',\n",
        "       'Benin', 'Bolivia', 'Bosnia and Herzegovina', 'Botswana',\n",
        "       'Bulgaria', 'Cameroon', 'Canada', 'Chile', 'Colombia', 'Croatia',\n",
        "       'Cuba', 'Cyprus', 'Czechia', 'Denmark', 'Dominican Republic',\n",
        "       'Egypt', 'Estonia', 'Finland', 'France', 'Georgia', 'Ghana',\n",
        "       'Greece', 'Guatemala', 'Hungary', 'Iceland', 'Iraq', 'Ireland',\n",
        "       'Israel', 'Italy', 'Jamaica', 'Jordan', 'Kazakhstan', 'Kyrgyzstan',\n",
        "       'Latvia', 'Lebanon', 'Libya', 'Lithuania', 'Luxembourg',\n",
        "       'Malaysia', 'Mexico', 'Moldova', 'Morocco', 'Mozambique',\n",
        "       'Netherlands', 'New Zealand', 'North Macedonia', 'Norway',\n",
        "       'Panama', 'Peru', 'Philippines', 'Poland', 'Portugal', 'Romania',\n",
        "       'Rwanda', 'Senegal', 'Serbia', 'Slovakia', 'Slovenia',\n",
        "       'South Korea', 'Spain', 'Sweden', 'Switzerland', 'Syria',\n",
        "       'Tajikistan', 'Tanzania', 'Thailand', 'Tunisia', 'Turkey',\n",
        "       'Turkmenistan', 'Ukraine', 'United Arab Emirates',\n",
        "       'United Kingdom', 'Uruguay', 'Uzbekistan', 'Venezuela', 'Yemen'])]\n",
        "\n",
        "\n",
        "#dimensionality reduction\n",
        "final_data['ccgo'] = final_data['cement_co2'] + final_data['gas_co2'] + final_data['oil_co2'] + final_data['coal_co2']\n",
        "final_data['gdp_per_capita'] = final_data['gdp'] / final_data['population']\n",
        "final_data.head()\n",
        "\n",
        "\n",
        "data = final_data.drop(['cement_co2','gas_co2','oil_co2','coal_co2','gdp','population'],axis=1)\n",
        "\n",
        "\n",
        "\n",
        "#splitting dataset\n",
        "ft_cols = ['year','methane','ccgo','gdp_per_capita']\n",
        "lb_col = ['co2']\n",
        "\n",
        "features = np.array(data[ft_cols])\n",
        "label = np.array(data[lb_col]).ravel()\n",
        "\n",
        "#Data splitting using sklearn train_test_split function\n",
        "ft_train,ft_test,lb_train,lb_test = ms.train_test_split(features,label,test_size=0.3\n",
        "                                                     ,shuffle = True, random_state= random_state)\n",
        "\n",
        "\n",
        "RFR = RandomForestRegressor(max_depth = 9, max_features = 3, n_estimators = 40, random_state = random_state)\n",
        "RFR.fit(ft_train, lb_train)\n",
        "\n",
        "# Saving model to disk\n",
        "pickle.dump(RFR, open('model.pkl','wb'))\n",
        "\n",
        "model = pickle.load(open('model.pkl','rb'))"
      ]
    }
  ]
}